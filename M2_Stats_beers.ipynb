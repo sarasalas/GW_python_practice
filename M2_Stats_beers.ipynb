{
 "cells": [
  {
   "cell_type": "code",
   "execution_count": 1,
   "metadata": {
    "collapsed": true
   },
   "outputs": [],
   "source": [
    "import pandas as pd\n",
    "import numpy as np"
   ]
  },
  {
   "cell_type": "code",
   "execution_count": 3,
   "metadata": {},
   "outputs": [
    {
     "name": "stdout",
     "output_type": "stream",
     "text": [
      ",abv,ibu,id,name,style,brewery_id,ounces\r\n",
      "0,0.05,,1436,Pub Beer,American Pale Lager,408,12.0\r\n",
      "1,0.066,,2265,Devil's Cup,American Pale Ale (APA),177,12.0\r\n",
      "2,0.071,,2264,Rise of the Phoenix,American IPA,177,12.0\r\n",
      "3,0.09,,2263,Sinister,American Double / Imperial IPA,177,12.0\r\n",
      "4,0.075,,2262,Sex and Candy,American IPA,177,12.0\r\n",
      "5,0.077,,2261,Black Exodus,Oatmeal Stout,177,12.0\r\n",
      "6,0.045,,2260,Lake Street Express,American Pale Ale (APA),177,12.0\r\n",
      "7,0.065,,2259,Foreman,American Porter,177,12.0\r\n",
      "8,0.055,,2258,Jade,American Pale Ale (APA),177,12.0\r\n"
     ]
    }
   ],
   "source": [
    "!head 'data/beers.csv'"
   ]
  },
  {
   "cell_type": "code",
   "execution_count": 5,
   "metadata": {},
   "outputs": [],
   "source": [
    "beers = pd.read_csv(\"data/beers.csv\")"
   ]
  },
  {
   "cell_type": "code",
   "execution_count": 6,
   "metadata": {},
   "outputs": [
    {
     "data": {
      "text/plain": [
       "pandas.core.frame.DataFrame"
      ]
     },
     "execution_count": 6,
     "metadata": {},
     "output_type": "execute_result"
    }
   ],
   "source": [
    "type(beers)"
   ]
  },
  {
   "cell_type": "code",
   "execution_count": 7,
   "metadata": {},
   "outputs": [
    {
     "data": {
      "text/plain": [
       "0    0.050\n",
       "1    0.066\n",
       "2    0.071\n",
       "3    0.090\n",
       "4    0.075\n",
       "5    0.077\n",
       "6    0.045\n",
       "7    0.065\n",
       "8    0.055\n",
       "9    0.086\n",
       "Name: abv, dtype: float64"
      ]
     },
     "execution_count": 7,
     "metadata": {},
     "output_type": "execute_result"
    }
   ],
   "source": [
    "beers['abv'][:10]"
   ]
  },
  {
   "cell_type": "code",
   "execution_count": 8,
   "metadata": {},
   "outputs": [
    {
     "data": {
      "text/plain": [
       "0       0.050\n",
       "1       0.066\n",
       "2       0.071\n",
       "3       0.090\n",
       "4       0.075\n",
       "5       0.077\n",
       "6       0.045\n",
       "7       0.065\n",
       "8       0.055\n",
       "9       0.086\n",
       "10      0.072\n",
       "11      0.073\n",
       "12      0.069\n",
       "13      0.085\n",
       "14      0.061\n",
       "15      0.060\n",
       "16      0.060\n",
       "17      0.060\n",
       "18      0.060\n",
       "19      0.082\n",
       "20      0.082\n",
       "21      0.099\n",
       "22      0.079\n",
       "23      0.079\n",
       "24      0.044\n",
       "25      0.049\n",
       "26      0.049\n",
       "27      0.049\n",
       "28      0.070\n",
       "29      0.070\n",
       "        ...  \n",
       "2380    0.080\n",
       "2381    0.055\n",
       "2382    0.071\n",
       "2383    0.052\n",
       "2384    0.048\n",
       "2385    0.059\n",
       "2386    0.062\n",
       "2387    0.045\n",
       "2388    0.058\n",
       "2389    0.045\n",
       "2390    0.059\n",
       "2391    0.047\n",
       "2392    0.050\n",
       "2393    0.065\n",
       "2394    0.028\n",
       "2395    0.065\n",
       "2396    0.069\n",
       "2397    0.045\n",
       "2398    0.077\n",
       "2399    0.069\n",
       "2400    0.060\n",
       "2401    0.042\n",
       "2402    0.082\n",
       "2403    0.055\n",
       "2404    0.075\n",
       "2405    0.067\n",
       "2406    0.052\n",
       "2407    0.055\n",
       "2408    0.055\n",
       "2409    0.052\n",
       "Name: abv, Length: 2410, dtype: float64"
      ]
     },
     "execution_count": 8,
     "metadata": {},
     "output_type": "execute_result"
    }
   ],
   "source": [
    "beers['abv']"
   ]
  },
  {
   "cell_type": "code",
   "execution_count": null,
   "metadata": {
    "collapsed": true
   },
   "outputs": [],
   "source": []
  },
  {
   "cell_type": "code",
   "execution_count": 9,
   "metadata": {
    "collapsed": true
   },
   "outputs": [],
   "source": [
    "#extraemos la column abv, como una serie\n",
    "abv_series = beers['abv']"
   ]
  },
  {
   "cell_type": "code",
   "execution_count": 10,
   "metadata": {},
   "outputs": [
    {
     "data": {
      "text/plain": [
       "2410"
      ]
     },
     "execution_count": 10,
     "metadata": {},
     "output_type": "execute_result"
    }
   ],
   "source": [
    "len(abv_series)"
   ]
  },
  {
   "cell_type": "code",
   "execution_count": 11,
   "metadata": {
    "collapsed": true
   },
   "outputs": [],
   "source": [
    "#quitamos los na, \n",
    "abv_clean = abv_series.dropna()"
   ]
  },
  {
   "cell_type": "code",
   "execution_count": 12,
   "metadata": {},
   "outputs": [
    {
     "data": {
      "text/plain": [
       "2348"
      ]
     },
     "execution_count": 12,
     "metadata": {},
     "output_type": "execute_result"
    }
   ],
   "source": [
    "len(abv_clean)"
   ]
  },
  {
   "cell_type": "code",
   "execution_count": 14,
   "metadata": {
    "collapsed": true
   },
   "outputs": [],
   "source": [
    "#extraemos los valores de la serie con el atributo abv_clean.values y los guardamos en la variable abv, que es un array\n",
    "abv = abv_clean.values"
   ]
  },
  {
   "cell_type": "code",
   "execution_count": 15,
   "metadata": {},
   "outputs": [
    {
     "data": {
      "text/plain": [
       "array([ 0.05 ,  0.066,  0.071, ...,  0.055,  0.055,  0.052])"
      ]
     },
     "execution_count": 15,
     "metadata": {},
     "output_type": "execute_result"
    }
   ],
   "source": [
    "abv"
   ]
  },
  {
   "cell_type": "code",
   "execution_count": 16,
   "metadata": {
    "collapsed": true
   },
   "outputs": [],
   "source": [
    "#haremos lo mismo con la columna ibu\n",
    "ibu_series = beers['ibu']"
   ]
  },
  {
   "cell_type": "code",
   "execution_count": 18,
   "metadata": {},
   "outputs": [],
   "source": [
    "ibu_clean = ibu_series.dropna()"
   ]
  },
  {
   "cell_type": "code",
   "execution_count": 19,
   "metadata": {},
   "outputs": [
    {
     "data": {
      "text/plain": [
       "1405"
      ]
     },
     "execution_count": 19,
     "metadata": {},
     "output_type": "execute_result"
    }
   ],
   "source": [
    "len(ibu_clean)"
   ]
  },
  {
   "cell_type": "code",
   "execution_count": 20,
   "metadata": {
    "collapsed": true
   },
   "outputs": [],
   "source": [
    "ibu = ibu_clean.values"
   ]
  },
  {
   "cell_type": "code",
   "execution_count": 22,
   "metadata": {},
   "outputs": [
    {
     "name": "stdout",
     "output_type": "stream",
     "text": [
      "[ 60.  92.  45. ...,  50.  45.  40.]\n"
     ]
    }
   ],
   "source": [
    "print(ibu)"
   ]
  },
  {
   "cell_type": "code",
   "execution_count": 30,
   "metadata": {
    "collapsed": true
   },
   "outputs": [],
   "source": [
    "def perc(original,clean):\n",
    "    \"\"\"Calcular el porcentaje de valores na\n",
    "    Arguments: \n",
    "    - original: serie original\n",
    "    - clean: serie sin valores na\n",
    "    Returns: porcentaje de valores na\n",
    "    \"\"\"\n",
    "    missing_value = len(original) - len(clean)\n",
    "    perc = missing_value*100/len(original)\n",
    "    return perc"
   ]
  },
  {
   "cell_type": "code",
   "execution_count": 31,
   "metadata": {},
   "outputs": [
    {
     "data": {
      "text/plain": [
       "41.70124481327801"
      ]
     },
     "execution_count": 31,
     "metadata": {},
     "output_type": "execute_result"
    }
   ],
   "source": [
    "#porcentaje de valores na de ibu\n",
    "perc(ibu_series,ibu)"
   ]
  },
  {
   "cell_type": "code",
   "execution_count": 32,
   "metadata": {},
   "outputs": [
    {
     "data": {
      "text/plain": [
       "2.5726141078838176"
      ]
     },
     "execution_count": 32,
     "metadata": {},
     "output_type": "execute_result"
    }
   ],
   "source": [
    "#porcentaje de valores na de abv\n",
    "perc(abv_series,abv)"
   ]
  },
  {
   "cell_type": "markdown",
   "metadata": {},
   "source": [
    "# Descriptive statistics"
   ]
  },
  {
   "cell_type": "code",
   "execution_count": 33,
   "metadata": {
    "collapsed": true
   },
   "outputs": [],
   "source": [
    "abv_min = abv.min()\n",
    "abv_max = abv.max()"
   ]
  },
  {
   "cell_type": "code",
   "execution_count": 34,
   "metadata": {},
   "outputs": [
    {
     "name": "stdout",
     "output_type": "stream",
     "text": [
      "Minimum value of abv is:  0.001\n",
      "Maximum value of abv is:  0.128\n"
     ]
    }
   ],
   "source": [
    "print('Minimum value of abv is: ', abv_min)\n",
    "print('Maximum value of abv is: ', abv_max)"
   ]
  },
  {
   "cell_type": "code",
   "execution_count": 35,
   "metadata": {
    "collapsed": true
   },
   "outputs": [],
   "source": [
    "ibu_min = ibu.min()\n",
    "ibu_max = ibu.max()"
   ]
  },
  {
   "cell_type": "code",
   "execution_count": 36,
   "metadata": {},
   "outputs": [
    {
     "name": "stdout",
     "output_type": "stream",
     "text": [
      "Minimum value of ibu is:  4.0\n",
      "Maximum value of ibu is:  138.0\n"
     ]
    }
   ],
   "source": [
    "print('Minimum value of ibu is: ',ibu_min)\n",
    "print('Maximum value of ibu is: ', ibu_max)"
   ]
  },
  {
   "cell_type": "markdown",
   "metadata": {},
   "source": [
    "## mean"
   ]
  },
  {
   "cell_type": "code",
   "execution_count": 39,
   "metadata": {},
   "outputs": [],
   "source": [
    "abv_mean = abv.mean()\n",
    "ibu_mean = ibu.mean()"
   ]
  },
  {
   "cell_type": "code",
   "execution_count": 41,
   "metadata": {},
   "outputs": [
    {
     "name": "stdout",
     "output_type": "stream",
     "text": [
      "0.0597734241908\n",
      "42.7131672598\n"
     ]
    }
   ],
   "source": [
    "print(abv_mean)\n",
    "print(ibu_mean)"
   ]
  },
  {
   "cell_type": "code",
   "execution_count": 42,
   "metadata": {},
   "outputs": [
    {
     "name": "stdout",
     "output_type": "stream",
     "text": [
      "The mean value for abv is 0.059773424190800686 and for ibu is 42.71316725978647\n"
     ]
    }
   ],
   "source": [
    "print('The mean value for abv is {} and for ibu is {}'.format(abv_mean,ibu_mean))"
   ]
  },
  {
   "cell_type": "code",
   "execution_count": 43,
   "metadata": {},
   "outputs": [
    {
     "name": "stdout",
     "output_type": "stream",
     "text": [
      "The mean value for abv is 0.0598 and for ibu is 42.7132\n"
     ]
    }
   ],
   "source": [
    "print('The mean value for abv is {:.4f} and for ibu is {:.4f}'.format(abv_mean,ibu_mean))"
   ]
  },
  {
   "cell_type": "markdown",
   "metadata": {},
   "source": [
    "### string formatting\n",
    "Another useful resource for string formatting is the [Python String Format Cookbook](https://mkaz.tech/code/python-string-format-cookbook/). Check it out!"
   ]
  },
  {
   "cell_type": "markdown",
   "metadata": {},
   "source": [
    "## sample vs population"
   ]
  },
  {
   "cell_type": "code",
   "execution_count": 45,
   "metadata": {},
   "outputs": [
    {
     "name": "stdout",
     "output_type": "stream",
     "text": [
      "0.0135388497354\n"
     ]
    }
   ],
   "source": [
    "abv_std = abv.std()\n",
    "print(abv_std)"
   ]
  },
  {
   "cell_type": "code",
   "execution_count": 46,
   "metadata": {},
   "outputs": [
    {
     "name": "stdout",
     "output_type": "stream",
     "text": [
      "25.9448279448\n"
     ]
    }
   ],
   "source": [
    "ibu_std = ibu.std()\n",
    "print(ibu_std)"
   ]
  },
  {
   "cell_type": "markdown",
   "metadata": {},
   "source": [
    "## Distribution plots"
   ]
  },
  {
   "cell_type": "code",
   "execution_count": 47,
   "metadata": {
    "collapsed": true
   },
   "outputs": [],
   "source": [
    "from matplotlib import pyplot as plt\n",
    "%matplotlib inline"
   ]
  },
  {
   "cell_type": "code",
   "execution_count": 49,
   "metadata": {},
   "outputs": [],
   "source": [
    "from matplotlib import rcParams\n",
    "rcParams['font.family'] = 'serif'\n",
    "rcParams['font.size'] = 16"
   ]
  },
  {
   "cell_type": "code",
   "execution_count": 51,
   "metadata": {},
   "outputs": [
    {
     "data": {
      "image/png": "[encoded data removed]",
      "text/plain": [
       "<matplotlib.figure.Figure at 0x7f013bf788d0>"
      ]
     },
     "metadata": {},
     "output_type": "display_data"
    }
   ],
   "source": [
    "#You can set the size of the figure by doing:\n",
    "plt.figure(figsize=(10,5))\n",
    "\n",
    "#Plotting\n",
    "plt.hist(abv, bins=20, color='#3498db', histtype='bar', edgecolor='white') \n",
    "#The \\n is to leave a blank line between the title and the plot\n",
    "plt.title('abv \\n')\n",
    "plt.xlabel('Alcohol by Volume (abv) ')\n",
    "plt.ylabel('Frequency');"
   ]
  },
  {
   "cell_type": "code",
   "execution_count": 53,
   "metadata": {},
   "outputs": [
    {
     "data": {
      "image/png": "[encoded data removed]",
      "text/plain": [
       "<matplotlib.figure.Figure at 0x7f0134a79a90>"
      ]
     },
     "metadata": {},
     "output_type": "display_data"
    }
   ],
   "source": [
    "#You can set the size of the figure by doing:\n",
    "plt.figure(figsize=(10,5))\n",
    "\n",
    "#Plotting\n",
    "plt.hist(ibu, bins=20, color='#e67e22', histtype='bar', edgecolor='white') \n",
    "#The \\n is to leave a blank line between the title and the plot\n",
    "plt.title('ibu \\n')\n",
    "plt.xlabel('International Bittering Units (ibu) ')\n",
    "plt.ylabel('Frequency');"
   ]
  },
  {
   "cell_type": "code",
   "execution_count": 57,
   "metadata": {},
   "outputs": [
    {
     "name": "stdout",
     "output_type": "stream",
     "text": [
      "2\n"
     ]
    }
   ],
   "source": [
    "x = np.array([1,2,3,4])\n",
    "num_ele = ((1 < x) & (x < 4)).sum()\n",
    "print(num_ele)"
   ]
  },
  {
   "cell_type": "code",
   "execution_count": 58,
   "metadata": {
    "collapsed": true
   },
   "outputs": [],
   "source": [
    "def std_percentages(x, x_mean, x_std):\n",
    "    \"\"\" Computes the percentage of coverage at 1std, 2std and 3std from the\n",
    "    mean value of a certain variable x.\n",
    "    \n",
    "    Arguments\n",
    "    ---------\n",
    "    x      : array, data we want to compute on. \n",
    "    x_mean : float, mean value of x array.\n",
    "    x_std  : float, standard deviation of x array.\n",
    "    \n",
    "    Returns\n",
    "    -------\n",
    "    \n",
    "    per_std_1 : float, percentage of values within 1 standard deviation.\n",
    "    per_std_2 : float, percentage of values within 2 standard deviations.\n",
    "    per_std_3 : float, percentage of values within 3 standard deviations.    \n",
    "    \"\"\"\n",
    "    std_1 = x_std\n",
    "    std_2 = 2 * x_std\n",
    "    std_3 = 3 * x_std\n",
    "    \n",
    "    #primer intervalo: media-std_1 hasta media+std_1\n",
    "    elem_std_1 = (((x_mean - std_1) < x) & (x < (x_mean + std_1))).sum()\n",
    "    per_std_1 = elem_std_1 * 100 / len(x) \n",
    "    \n",
    "    #segundo intervalo\n",
    "    elem_std_2 = (((x_mean - std_2) < x) & (x < (x_mean + std_2))).sum()\n",
    "    per_std_2 = elem_std_2 * 100 / len(x) \n",
    "    \n",
    "    #tercer intervalo\n",
    "    elem_std_3 = (((x_mean - std_3) < x) & (x < (x_mean + std_3))).sum()\n",
    "    per_std_3 = elem_std_3 * 100 / len(x) \n",
    "    \n",
    "    return per_std_1, per_std_2, per_std_3"
   ]
  },
  {
   "cell_type": "code",
   "execution_count": 66,
   "metadata": {},
   "outputs": [
    {
     "data": {
      "text/plain": [
       "74.063032367972738"
      ]
     },
     "execution_count": 66,
     "metadata": {},
     "output_type": "execute_result"
    }
   ],
   "source": [
    "abv_std_1, abv_std_2,abv_std_3 = std_percentages(abv,abv_mean,abv_std)\n",
    "abv_std_1"
   ]
  },
  {
   "cell_type": "code",
   "execution_count": 68,
   "metadata": {},
   "outputs": [
    {
     "name": "stdout",
     "output_type": "stream",
     "text": [
      "The value for first coverage is: 74.06%\n",
      "The value for second coverage is: 94.34%\n",
      "The value for third coverage is: 99.79%\n"
     ]
    }
   ],
   "source": [
    "print('The value for first coverage is: {:.2f}%'.format(abv_std_1))\n",
    "print('The value for second coverage is: {:.2f}%'.format(abv_std_2))\n",
    "print('The value for third coverage is: {:.2f}%'.format(abv_std_3))"
   ]
  },
  {
   "cell_type": "code",
   "execution_count": 69,
   "metadata": {
    "collapsed": true
   },
   "outputs": [],
   "source": [
    "ibu_std_1, ibu_std_2, ibu_std_3 = std_percentages(ibu,ibu_mean,ibu_std)"
   ]
  },
  {
   "cell_type": "code",
   "execution_count": 70,
   "metadata": {},
   "outputs": [
    {
     "name": "stdout",
     "output_type": "stream",
     "text": [
      "The value for first coverage is: 68.11%\n",
      "The value for second coverage is: 95.66%\n",
      "The value for third coverage is: 99.72%\n"
     ]
    }
   ],
   "source": [
    "print('The value for first coverage is: {:.2f}%'.format(ibu_std_1))\n",
    "print('The value for second coverage is: {:.2f}%'.format(ibu_std_2))\n",
    "print('The value for third coverage is: {:.2f}%'.format(ibu_std_3))"
   ]
  },
  {
   "cell_type": "code",
   "execution_count": null,
   "metadata": {
    "collapsed": true
   },
   "outputs": [],
   "source": []
  }
 ],
 "metadata": {
  "kernelspec": {
   "display_name": "Python 3",
   "language": "python",
   "name": "python3"
  },
  "language_info": {
   "codemirror_mode": {
    "name": "ipython",
    "version": 3
   },
   "file_extension": ".py",
   "mimetype": "text/x-python",
   "name": "python",
   "nbconvert_exporter": "python",
   "pygments_lexer": "ipython3",
   "version": "3.6.2"
  }
 },
 "nbformat": 4,
 "nbformat_minor": 2
}
