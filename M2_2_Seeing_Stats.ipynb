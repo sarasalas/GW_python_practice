{
 "cells": [
  {
   "cell_type": "code",
   "execution_count": 1,
   "metadata": {
    "collapsed": true
   },
   "outputs": [],
   "source": [
    "import pandas as pd\n",
    "import numpy as np\n",
    "from matplotlib import pyplot as plt\n",
    "%matplotlib inline\n",
    "\n",
    "from matplotlib import rcParams\n",
    "rcParams['font.family'] = 'serif'\n",
    "rcParams['font.size'] = 16"
   ]
  },
  {
   "cell_type": "code",
   "execution_count": 2,
   "metadata": {
    "collapsed": true
   },
   "outputs": [],
   "source": [
    "beers = pd.read_csv('data/beers.csv')"
   ]
  },
  {
   "cell_type": "code",
   "execution_count": 3,
   "metadata": {},
   "outputs": [
    {
     "data": {
      "text/plain": [
       "pandas.core.frame.DataFrame"
      ]
     },
     "execution_count": 3,
     "metadata": {},
     "output_type": "execute_result"
    }
   ],
   "source": [
    "type(beers)"
   ]
  },
  {
   "cell_type": "code",
   "execution_count": 4,
   "metadata": {},
   "outputs": [
    {
     "data": {
      "text/html": [
       "<div>\n",
       "<style>\n",
       "    .dataframe thead tr:only-child th {\n",
       "        text-align: right;\n",
       "    }\n",
       "\n",
       "    .dataframe thead th {\n",
       "        text-align: left;\n",
       "    }\n",
       "\n",
       "    .dataframe tbody tr th {\n",
       "        vertical-align: top;\n",
       "    }\n",
       "</style>\n",
       "<table border=\"1\" class=\"dataframe\">\n",
       "  <thead>\n",
       "    <tr style=\"text-align: right;\">\n",
       "      <th></th>\n",
       "      <th>Unnamed: 0</th>\n",
       "      <th>abv</th>\n",
       "      <th>ibu</th>\n",
       "      <th>id</th>\n",
       "      <th>name</th>\n",
       "      <th>style</th>\n",
       "      <th>brewery_id</th>\n",
       "      <th>ounces</th>\n",
       "    </tr>\n",
       "  </thead>\n",
       "  <tbody>\n",
       "    <tr>\n",
       "      <th>0</th>\n",
       "      <td>0</td>\n",
       "      <td>0.050</td>\n",
       "      <td>NaN</td>\n",
       "      <td>1436</td>\n",
       "      <td>Pub Beer</td>\n",
       "      <td>American Pale Lager</td>\n",
       "      <td>408</td>\n",
       "      <td>12.0</td>\n",
       "    </tr>\n",
       "    <tr>\n",
       "      <th>1</th>\n",
       "      <td>1</td>\n",
       "      <td>0.066</td>\n",
       "      <td>NaN</td>\n",
       "      <td>2265</td>\n",
       "      <td>Devil's Cup</td>\n",
       "      <td>American Pale Ale (APA)</td>\n",
       "      <td>177</td>\n",
       "      <td>12.0</td>\n",
       "    </tr>\n",
       "    <tr>\n",
       "      <th>2</th>\n",
       "      <td>2</td>\n",
       "      <td>0.071</td>\n",
       "      <td>NaN</td>\n",
       "      <td>2264</td>\n",
       "      <td>Rise of the Phoenix</td>\n",
       "      <td>American IPA</td>\n",
       "      <td>177</td>\n",
       "      <td>12.0</td>\n",
       "    </tr>\n",
       "    <tr>\n",
       "      <th>3</th>\n",
       "      <td>3</td>\n",
       "      <td>0.090</td>\n",
       "      <td>NaN</td>\n",
       "      <td>2263</td>\n",
       "      <td>Sinister</td>\n",
       "      <td>American Double / Imperial IPA</td>\n",
       "      <td>177</td>\n",
       "      <td>12.0</td>\n",
       "    </tr>\n",
       "    <tr>\n",
       "      <th>4</th>\n",
       "      <td>4</td>\n",
       "      <td>0.075</td>\n",
       "      <td>NaN</td>\n",
       "      <td>2262</td>\n",
       "      <td>Sex and Candy</td>\n",
       "      <td>American IPA</td>\n",
       "      <td>177</td>\n",
       "      <td>12.0</td>\n",
       "    </tr>\n",
       "    <tr>\n",
       "      <th>5</th>\n",
       "      <td>5</td>\n",
       "      <td>0.077</td>\n",
       "      <td>NaN</td>\n",
       "      <td>2261</td>\n",
       "      <td>Black Exodus</td>\n",
       "      <td>Oatmeal Stout</td>\n",
       "      <td>177</td>\n",
       "      <td>12.0</td>\n",
       "    </tr>\n",
       "    <tr>\n",
       "      <th>6</th>\n",
       "      <td>6</td>\n",
       "      <td>0.045</td>\n",
       "      <td>NaN</td>\n",
       "      <td>2260</td>\n",
       "      <td>Lake Street Express</td>\n",
       "      <td>American Pale Ale (APA)</td>\n",
       "      <td>177</td>\n",
       "      <td>12.0</td>\n",
       "    </tr>\n",
       "    <tr>\n",
       "      <th>7</th>\n",
       "      <td>7</td>\n",
       "      <td>0.065</td>\n",
       "      <td>NaN</td>\n",
       "      <td>2259</td>\n",
       "      <td>Foreman</td>\n",
       "      <td>American Porter</td>\n",
       "      <td>177</td>\n",
       "      <td>12.0</td>\n",
       "    </tr>\n",
       "    <tr>\n",
       "      <th>8</th>\n",
       "      <td>8</td>\n",
       "      <td>0.055</td>\n",
       "      <td>NaN</td>\n",
       "      <td>2258</td>\n",
       "      <td>Jade</td>\n",
       "      <td>American Pale Ale (APA)</td>\n",
       "      <td>177</td>\n",
       "      <td>12.0</td>\n",
       "    </tr>\n",
       "    <tr>\n",
       "      <th>9</th>\n",
       "      <td>9</td>\n",
       "      <td>0.086</td>\n",
       "      <td>NaN</td>\n",
       "      <td>2131</td>\n",
       "      <td>Cone Crusher</td>\n",
       "      <td>American Double / Imperial IPA</td>\n",
       "      <td>177</td>\n",
       "      <td>12.0</td>\n",
       "    </tr>\n",
       "  </tbody>\n",
       "</table>\n",
       "</div>"
      ],
      "text/plain": [
       "   Unnamed: 0    abv  ibu    id                 name  \\\n",
       "0           0  0.050  NaN  1436             Pub Beer   \n",
       "1           1  0.066  NaN  2265          Devil's Cup   \n",
       "2           2  0.071  NaN  2264  Rise of the Phoenix   \n",
       "3           3  0.090  NaN  2263             Sinister   \n",
       "4           4  0.075  NaN  2262        Sex and Candy   \n",
       "5           5  0.077  NaN  2261         Black Exodus   \n",
       "6           6  0.045  NaN  2260  Lake Street Express   \n",
       "7           7  0.065  NaN  2259              Foreman   \n",
       "8           8  0.055  NaN  2258                 Jade   \n",
       "9           9  0.086  NaN  2131         Cone Crusher   \n",
       "\n",
       "                            style  brewery_id  ounces  \n",
       "0             American Pale Lager         408    12.0  \n",
       "1         American Pale Ale (APA)         177    12.0  \n",
       "2                    American IPA         177    12.0  \n",
       "3  American Double / Imperial IPA         177    12.0  \n",
       "4                    American IPA         177    12.0  \n",
       "5                   Oatmeal Stout         177    12.0  \n",
       "6         American Pale Ale (APA)         177    12.0  \n",
       "7                 American Porter         177    12.0  \n",
       "8         American Pale Ale (APA)         177    12.0  \n",
       "9  American Double / Imperial IPA         177    12.0  "
      ]
     },
     "execution_count": 4,
     "metadata": {},
     "output_type": "execute_result"
    }
   ],
   "source": [
    "beers[0:10]"
   ]
  },
  {
   "cell_type": "code",
   "execution_count": 5,
   "metadata": {
    "collapsed": true
   },
   "outputs": [],
   "source": [
    "#cleaning abv\n",
    "abv_series = beers['abv']\n",
    "abv_clean = abv_series.dropna()\n",
    "abv = abv_clean.values"
   ]
  },
  {
   "cell_type": "code",
   "execution_count": 6,
   "metadata": {},
   "outputs": [
    {
     "data": {
      "text/plain": [
       "2348"
      ]
     },
     "execution_count": 6,
     "metadata": {},
     "output_type": "execute_result"
    }
   ],
   "source": [
    "len(abv)"
   ]
  },
  {
   "cell_type": "code",
   "execution_count": 7,
   "metadata": {
    "collapsed": true
   },
   "outputs": [],
   "source": [
    "#cleaning ibu\n",
    "ibu_series = beers['ibu']\n",
    "ibu_clean = ibu_series.dropna()\n",
    "ibu = ibu_clean.values"
   ]
  },
  {
   "cell_type": "code",
   "execution_count": 8,
   "metadata": {},
   "outputs": [
    {
     "data": {
      "text/plain": [
       "1405"
      ]
     },
     "execution_count": 8,
     "metadata": {},
     "output_type": "execute_result"
    }
   ],
   "source": [
    "len(ibu)"
   ]
  },
  {
   "cell_type": "code",
   "execution_count": 9,
   "metadata": {},
   "outputs": [
    {
     "data": {
      "image/png": "[encoded data removed]",
      "text/plain": [
       "<matplotlib.figure.Figure at 0x7f750e3467b8>"
      ]
     },
     "metadata": {},
     "output_type": "display_data"
    }
   ],
   "source": [
    "#abv histogram with 10 bins\n",
    "plt.figure(figsize=(6,4))\n",
    "plt.hist(abv, bins=10, color='#3498db', histtype='bar', edgecolor='white') \n",
    "plt.title('Alcohol by Volume (abv) \\n')\n",
    "plt.xlabel('abv')\n",
    "plt.ylabel('Frequency');"
   ]
  },
  {
   "cell_type": "code",
   "execution_count": 10,
   "metadata": {},
   "outputs": [
    {
     "data": {
      "image/png": "[encoded data removed]",
      "text/plain": [
       "<matplotlib.figure.Figure at 0x7f750e346cf8>"
      ]
     },
     "metadata": {},
     "output_type": "display_data"
    }
   ],
   "source": [
    "beers.hist(column='abv',edgecolor='white')\n",
    "plt.title('Alcohol by volume (abv) \\n');"
   ]
  },
  {
   "cell_type": "markdown",
   "metadata": {},
   "source": [
    "## estudio de numpy.var()"
   ]
  },
  {
   "cell_type": "code",
   "execution_count": 13,
   "metadata": {},
   "outputs": [
    {
     "name": "stdout",
     "output_type": "stream",
     "text": [
      "0.000183300452159\n"
     ]
    }
   ],
   "source": [
    "abv_var = np.var(abv)\n",
    "print(abv_var)"
   ]
  },
  {
   "cell_type": "code",
   "execution_count": 14,
   "metadata": {},
   "outputs": [
    {
     "name": "stdout",
     "output_type": "stream",
     "text": [
      "0.000183378552053\n"
     ]
    }
   ],
   "source": [
    "abv_var1 = np.var(abv,ddof=1)\n",
    "print(abv_var1)"
   ]
  },
  {
   "cell_type": "code",
   "execution_count": 16,
   "metadata": {},
   "outputs": [
    {
     "name": "stdout",
     "output_type": "stream",
     "text": [
      "0.0135417337167\n"
     ]
    }
   ],
   "source": [
    "#standard deviation\n",
    "abv_std = np.sqrt(abv_var1)\n",
    "print(abv_std)"
   ]
  },
  {
   "cell_type": "code",
   "execution_count": 26,
   "metadata": {},
   "outputs": [
    {
     "data": {
      "text/plain": [
       "0.013541733716680264"
      ]
     },
     "execution_count": 26,
     "metadata": {},
     "output_type": "execute_result"
    }
   ],
   "source": [
    "np.std(abv,ddof=1)"
   ]
  },
  {
   "cell_type": "code",
   "execution_count": 28,
   "metadata": {},
   "outputs": [
    {
     "name": "stdout",
     "output_type": "stream",
     "text": [
      "673.613537326\n"
     ]
    }
   ],
   "source": [
    "ibu_var = np.var(ibu,ddof=1)\n",
    "print(ibu_var)"
   ]
  },
  {
   "cell_type": "code",
   "execution_count": 30,
   "metadata": {},
   "outputs": [
    {
     "name": "stdout",
     "output_type": "stream",
     "text": [
      "25.9540659113\n"
     ]
    }
   ],
   "source": [
    "ibu_std = np.std(ibu,ddof=1)\n",
    "print(ibu_std)"
   ]
  },
  {
   "cell_type": "markdown",
   "metadata": {},
   "source": [
    "### mediana"
   ]
  },
  {
   "cell_type": "code",
   "execution_count": 36,
   "metadata": {},
   "outputs": [
    {
     "name": "stdout",
     "output_type": "stream",
     "text": [
      "35.0\n",
      "42.7131672598\n"
     ]
    }
   ],
   "source": [
    "ibu_median = np.median(ibu)\n",
    "print(ibu_median)\n",
    "ibu_mean = np.mean(ibu)\n",
    "print(ibu_mean)"
   ]
  },
  {
   "cell_type": "code",
   "execution_count": 43,
   "metadata": {},
   "outputs": [
    {
     "data": {
      "image/png": "[encoded data removed]",
      "text/plain": [
       "<matplotlib.figure.Figure at 0x7f7506d8eef0>"
      ]
     },
     "metadata": {},
     "output_type": "display_data"
    }
   ],
   "source": [
    "beers.hist(column='ibu')\n",
    "plt.title('ibu \\n');"
   ]
  },
  {
   "cell_type": "code",
   "execution_count": 38,
   "metadata": {},
   "outputs": [
    {
     "name": "stdout",
     "output_type": "stream",
     "text": [
      "0.056\n",
      "0.0597734241908\n"
     ]
    }
   ],
   "source": [
    "abv_median = np.median(abv)\n",
    "print(abv_median)\n",
    "abv_mean = np.mean(abv)\n",
    "print(abv_mean)"
   ]
  },
  {
   "cell_type": "code",
   "execution_count": 42,
   "metadata": {},
   "outputs": [
    {
     "data": {
      "image/png": "[encoded data removed]",
      "text/plain": [
       "<matplotlib.figure.Figure at 0x7f7506ccc588>"
      ]
     },
     "metadata": {},
     "output_type": "display_data"
    }
   ],
   "source": [
    "beers.hist(column='abv')\n",
    "plt.title('abv \\n');"
   ]
  },
  {
   "cell_type": "code",
   "execution_count": 47,
   "metadata": {},
   "outputs": [
    {
     "data": {
      "image/png": "[encoded data removed]",
      "text/plain": [
       "<matplotlib.figure.Figure at 0x7f7506886eb8>"
      ]
     },
     "metadata": {},
     "output_type": "display_data"
    }
   ],
   "source": [
    "plt.boxplot(abv,labels=['abv']);"
   ]
  },
  {
   "cell_type": "code",
   "execution_count": 48,
   "metadata": {},
   "outputs": [
    {
     "data": {
      "image/png": "[encoded data removed]",
      "text/plain": [
       "<matplotlib.figure.Figure at 0x7f75067937b8>"
      ]
     },
     "metadata": {},
     "output_type": "display_data"
    }
   ],
   "source": [
    "plt.boxplot(ibu,labels=['ibu']);"
   ]
  },
  {
   "cell_type": "markdown",
   "metadata": {},
   "source": [
    "### percentiles y cuartiles"
   ]
  },
  {
   "cell_type": "code",
   "execution_count": 49,
   "metadata": {},
   "outputs": [
    {
     "name": "stdout",
     "output_type": "stream",
     "text": [
      "The first quartile for abv is 0.05\n",
      "The second quartile for abv is 0.056\n",
      "The third quartile for abv is 0.067\n"
     ]
    }
   ],
   "source": [
    "abv_q1 = np.percentile(abv,q=25)\n",
    "abv_q2 = np.percentile(abv,q=50)\n",
    "abv_q3 = np.percentile(abv,q=75)\n",
    "\n",
    "print('The first quartile for abv is {}'.format(abv_q1))\n",
    "print('The second quartile for abv is {}'.format(abv_q2))\n",
    "print('The third quartile for abv is {}'.format(abv_q3))"
   ]
  },
  {
   "cell_type": "code",
   "execution_count": 51,
   "metadata": {},
   "outputs": [
    {
     "name": "stdout",
     "output_type": "stream",
     "text": [
      "[ 21.  35.  64.]\n"
     ]
    }
   ],
   "source": [
    "quartiles_ibu = np.percentile(ibu,q=[25,50,75])\n",
    "print(quartiles_ibu)"
   ]
  },
  {
   "cell_type": "code",
   "execution_count": 53,
   "metadata": {},
   "outputs": [
    {
     "name": "stdout",
     "output_type": "stream",
     "text": [
      "The first quartile for ibu is 21.0\n",
      "The second quartile for ibu is 35.0\n",
      "The third quartile for ibu is 64.0\n"
     ]
    }
   ],
   "source": [
    "print('The first quartile for ibu is {}'.format(quartiles_ibu[0]))\n",
    "print('The second quartile for ibu is {}'.format(quartiles_ibu[1]))\n",
    "print('The third quartile for ibu is {}'.format(quartiles_ibu[2]))"
   ]
  },
  {
   "cell_type": "code",
   "execution_count": null,
   "metadata": {
    "collapsed": true
   },
   "outputs": [],
   "source": [
    "#### ejercicio: calcular end-point de whiskers\n",
    "abv_top_whisker = "
   ]
  },
  {
   "cell_type": "code",
   "execution_count": 54,
   "metadata": {},
   "outputs": [
    {
     "data": {
      "text/plain": [
       "0.128"
      ]
     },
     "execution_count": 54,
     "metadata": {},
     "output_type": "execute_result"
    }
   ],
   "source": [
    "abv.max()"
   ]
  },
  {
   "cell_type": "code",
   "execution_count": 55,
   "metadata": {},
   "outputs": [
    {
     "data": {
      "text/plain": [
       "0.067000000000000004"
      ]
     },
     "execution_count": 55,
     "metadata": {},
     "output_type": "execute_result"
    }
   ],
   "source": [
    "abv_q3"
   ]
  },
  {
   "cell_type": "code",
   "execution_count": 64,
   "metadata": {},
   "outputs": [
    {
     "name": "stdout",
     "output_type": "stream",
     "text": [
      "0.017\n"
     ]
    }
   ],
   "source": [
    "abv_IQR = abv_q3 - abv_q1\n",
    "print(abv_IQR)"
   ]
  },
  {
   "cell_type": "code",
   "execution_count": 65,
   "metadata": {},
   "outputs": [
    {
     "name": "stdout",
     "output_type": "stream",
     "text": [
      "0.0925\n"
     ]
    }
   ],
   "source": [
    "abv_low_value = abv_q3 + (1.5 * abv_IQR)\n",
    "print(abv_low_value)"
   ]
  },
  {
   "cell_type": "code",
   "execution_count": 59,
   "metadata": {},
   "outputs": [
    {
     "name": "stdout",
     "output_type": "stream",
     "text": [
      "0.128\n"
     ]
    }
   ],
   "source": [
    "abv_max = abv.max()\n",
    "print(abv_max)"
   ]
  },
  {
   "cell_type": "code",
   "execution_count": 62,
   "metadata": {},
   "outputs": [
    {
     "name": "stdout",
     "output_type": "stream",
     "text": [
      "0.0355\n"
     ]
    }
   ],
   "source": [
    "abv_top_whisker = abv_max - abv_low_value\n",
    "print(abv_top_whisker)"
   ]
  },
  {
   "cell_type": "code",
   "execution_count": 66,
   "metadata": {},
   "outputs": [
    {
     "name": "stdout",
     "output_type": "stream",
     "text": [
      "0.0245\n"
     ]
    }
   ],
   "source": [
    "abv_high_value = abv_q1 - (1.5 *abv_IQR)\n",
    "print(abv_high_value)"
   ]
  },
  {
   "cell_type": "code",
   "execution_count": 67,
   "metadata": {},
   "outputs": [
    {
     "name": "stdout",
     "output_type": "stream",
     "text": [
      "0.001\n"
     ]
    }
   ],
   "source": [
    "abv_min = abv.min()\n",
    "print(abv_min)"
   ]
  },
  {
   "cell_type": "code",
   "execution_count": 68,
   "metadata": {},
   "outputs": [
    {
     "name": "stdout",
     "output_type": "stream",
     "text": [
      "-0.0235\n"
     ]
    }
   ],
   "source": [
    "abv_bottom_whisker = abv_min - abv_high_value\n",
    "print(abv_bottom_whisker)"
   ]
  },
  {
   "cell_type": "markdown",
   "metadata": {},
   "source": [
    "## categorical data"
   ]
  },
  {
   "cell_type": "code",
   "execution_count": 69,
   "metadata": {
    "collapsed": true
   },
   "outputs": [],
   "source": [
    "style_series = beers['style']"
   ]
  },
  {
   "cell_type": "code",
   "execution_count": 70,
   "metadata": {},
   "outputs": [
    {
     "data": {
      "text/plain": [
       "pandas.core.series.Series"
      ]
     },
     "execution_count": 70,
     "metadata": {},
     "output_type": "execute_result"
    }
   ],
   "source": [
    "type(style_series)"
   ]
  },
  {
   "cell_type": "code",
   "execution_count": 71,
   "metadata": {},
   "outputs": [
    {
     "data": {
      "text/plain": [
       "0               American Pale Lager\n",
       "1           American Pale Ale (APA)\n",
       "2                      American IPA\n",
       "3    American Double / Imperial IPA\n",
       "4                      American IPA\n",
       "5                     Oatmeal Stout\n",
       "6           American Pale Ale (APA)\n",
       "7                   American Porter\n",
       "8           American Pale Ale (APA)\n",
       "9    American Double / Imperial IPA\n",
       "Name: style, dtype: object"
      ]
     },
     "execution_count": 71,
     "metadata": {},
     "output_type": "execute_result"
    }
   ],
   "source": [
    "style_series[0:10]"
   ]
  },
  {
   "cell_type": "code",
   "execution_count": 73,
   "metadata": {},
   "outputs": [
    {
     "name": "stdout",
     "output_type": "stream",
     "text": [
      "American IPA                           424\n",
      "American Pale Ale (APA)                245\n",
      "American Amber / Red Ale               133\n",
      "American Blonde Ale                    108\n",
      "American Double / Imperial IPA         105\n",
      "American Pale Wheat Ale                 97\n",
      "American Brown Ale                      70\n",
      "American Porter                         68\n",
      "Saison / Farmhouse Ale                  52\n",
      "Witbier                                 51\n",
      "Fruit / Vegetable Beer                  49\n",
      "Kölsch                                  42\n",
      "Hefeweizen                              40\n",
      "American Pale Lager                     39\n",
      "American Stout                          39\n",
      "Cider                                   37\n",
      "American Black Ale                      36\n",
      "German Pilsener                         36\n",
      "Märzen / Oktoberfest                    30\n",
      "Cream Ale                               29\n",
      "American Amber / Red Lager              29\n",
      "Czech Pilsener                          28\n",
      "American Pilsner                        25\n",
      "Belgian Pale Ale                        24\n",
      "Pumpkin Ale                             23\n",
      "Extra Special / Strong Bitter (ESB)     20\n",
      "Munich Helles Lager                     20\n",
      "Vienna Lager                            20\n",
      "Scottish Ale                            19\n",
      "Oatmeal Stout                           18\n",
      "                                      ... \n",
      "Dunkelweizen                             4\n",
      "English Strong Ale                       4\n",
      "Munich Dunkel Lager                      4\n",
      "Quadrupel (Quad)                         4\n",
      "Radler                                   3\n",
      "English Pale Mild Ale                    3\n",
      "English Bitter                           3\n",
      "Keller Bier / Zwickel Bier               3\n",
      "Chile Beer                               3\n",
      "American Barleywine                      3\n",
      "English Barleywine                       3\n",
      "Shandy                                   3\n",
      "American India Pale Lager                3\n",
      "Euro Pale Lager                          2\n",
      "American Double / Imperial Pilsner       2\n",
      "Abbey Single Ale                         2\n",
      "Roggenbier                               2\n",
      "Rauchbier                                2\n",
      "English Stout                            2\n",
      "Old Ale                                  2\n",
      "Grisette                                 1\n",
      "Other                                    1\n",
      "American Malt Liquor                     1\n",
      "Wheat Ale                                1\n",
      "Smoked Beer                              1\n",
      "Kristalweizen                            1\n",
      "Braggot                                  1\n",
      "Flanders Red Ale                         1\n",
      "Flanders Oud Bruin                       1\n",
      "Low Alcohol Beer                         1\n",
      "Name: style, Length: 99, dtype: int64\n"
     ]
    }
   ],
   "source": [
    "style_counts = style_series.value_counts()\n",
    "print(style_counts)"
   ]
  },
  {
   "cell_type": "code",
   "execution_count": 74,
   "metadata": {},
   "outputs": [
    {
     "data": {
      "text/plain": [
       "99"
      ]
     },
     "execution_count": 74,
     "metadata": {},
     "output_type": "execute_result"
    }
   ],
   "source": [
    "len(style_counts)"
   ]
  },
  {
   "cell_type": "code",
   "execution_count": 78,
   "metadata": {},
   "outputs": [
    {
     "data": {
      "image/png": "[encoded data removed]",
      "text/plain": [
       "<matplotlib.figure.Figure at 0x7f7504bd7f98>"
      ]
     },
     "metadata": {},
     "output_type": "display_data"
    }
   ],
   "source": [
    "style_counts[0:20].plot.barh(figsize = (10,8),edgecolor = 'gray');"
   ]
  },
  {
   "cell_type": "markdown",
   "metadata": {},
   "source": [
    "## scatterplots"
   ]
  },
  {
   "cell_type": "code",
   "execution_count": null,
   "metadata": {
    "collapsed": true
   },
   "outputs": [],
   "source": [
    "# primero limpiamos el dataset de valores n/a para abv e ibu \n",
    "# después extraemos ibu y abv\n"
   ]
  },
  {
   "cell_type": "code",
   "execution_count": 79,
   "metadata": {
    "collapsed": true
   },
   "outputs": [],
   "source": [
    "beers_clean = beers.dropna()"
   ]
  },
  {
   "cell_type": "code",
   "execution_count": 81,
   "metadata": {},
   "outputs": [
    {
     "data": {
      "text/plain": [
       "1403"
      ]
     },
     "execution_count": 81,
     "metadata": {},
     "output_type": "execute_result"
    }
   ],
   "source": [
    "len(beers_clean)"
   ]
  },
  {
   "cell_type": "code",
   "execution_count": 86,
   "metadata": {
    "collapsed": true
   },
   "outputs": [],
   "source": [
    "plt.scatter?"
   ]
  },
  {
   "cell_type": "code",
   "execution_count": 90,
   "metadata": {},
   "outputs": [
    {
     "data": {
      "image/png": "[encoded data removed]",
      "text/plain": [
       "<matplotlib.figure.Figure at 0x7f750462c080>"
      ]
     },
     "metadata": {},
     "output_type": "display_data"
    }
   ],
   "source": [
    "plt.figure(figsize=(8,8))\n",
    "plt.scatter(beers_clean['abv'],beers_clean['ibu'],color='#3498db')\n",
    "plt.title('Alcohol by volume vs IBU \\n')\n",
    "plt.xlabel('abv')\n",
    "plt.ylabel('IBU');"
   ]
  },
  {
   "cell_type": "markdown",
   "metadata": {},
   "source": [
    "## bubble chart"
   ]
  },
  {
   "cell_type": "code",
   "execution_count": 91,
   "metadata": {
    "collapsed": true
   },
   "outputs": [],
   "source": [
    "# relación de abv e ibu según el estilo de cerveza"
   ]
  },
  {
   "cell_type": "code",
   "execution_count": 105,
   "metadata": {},
   "outputs": [
    {
     "data": {
      "text/html": [
       "<div>\n",
       "<style>\n",
       "    .dataframe thead tr:only-child th {\n",
       "        text-align: right;\n",
       "    }\n",
       "\n",
       "    .dataframe thead th {\n",
       "        text-align: left;\n",
       "    }\n",
       "\n",
       "    .dataframe tbody tr th {\n",
       "        vertical-align: top;\n",
       "    }\n",
       "</style>\n",
       "<table border=\"1\" class=\"dataframe\">\n",
       "  <thead>\n",
       "    <tr style=\"text-align: right;\">\n",
       "      <th></th>\n",
       "      <th>style</th>\n",
       "      <th>abv</th>\n",
       "      <th>ibu</th>\n",
       "    </tr>\n",
       "  </thead>\n",
       "  <tbody>\n",
       "    <tr>\n",
       "      <th>14</th>\n",
       "      <td>American Pale Ale (APA)</td>\n",
       "      <td>0.061</td>\n",
       "      <td>60.0</td>\n",
       "    </tr>\n",
       "    <tr>\n",
       "      <th>21</th>\n",
       "      <td>American Barleywine</td>\n",
       "      <td>0.099</td>\n",
       "      <td>92.0</td>\n",
       "    </tr>\n",
       "    <tr>\n",
       "      <th>22</th>\n",
       "      <td>Winter Warmer</td>\n",
       "      <td>0.079</td>\n",
       "      <td>45.0</td>\n",
       "    </tr>\n",
       "    <tr>\n",
       "      <th>24</th>\n",
       "      <td>American Pale Ale (APA)</td>\n",
       "      <td>0.044</td>\n",
       "      <td>42.0</td>\n",
       "    </tr>\n",
       "    <tr>\n",
       "      <th>25</th>\n",
       "      <td>Fruit / Vegetable Beer</td>\n",
       "      <td>0.049</td>\n",
       "      <td>17.0</td>\n",
       "    </tr>\n",
       "    <tr>\n",
       "      <th>26</th>\n",
       "      <td>Fruit / Vegetable Beer</td>\n",
       "      <td>0.049</td>\n",
       "      <td>17.0</td>\n",
       "    </tr>\n",
       "    <tr>\n",
       "      <th>27</th>\n",
       "      <td>Fruit / Vegetable Beer</td>\n",
       "      <td>0.049</td>\n",
       "      <td>17.0</td>\n",
       "    </tr>\n",
       "    <tr>\n",
       "      <th>28</th>\n",
       "      <td>American IPA</td>\n",
       "      <td>0.070</td>\n",
       "      <td>70.0</td>\n",
       "    </tr>\n",
       "    <tr>\n",
       "      <th>29</th>\n",
       "      <td>American IPA</td>\n",
       "      <td>0.070</td>\n",
       "      <td>70.0</td>\n",
       "    </tr>\n",
       "    <tr>\n",
       "      <th>30</th>\n",
       "      <td>American IPA</td>\n",
       "      <td>0.070</td>\n",
       "      <td>70.0</td>\n",
       "    </tr>\n",
       "  </tbody>\n",
       "</table>\n",
       "</div>"
      ],
      "text/plain": [
       "                      style    abv   ibu\n",
       "14  American Pale Ale (APA)  0.061  60.0\n",
       "21      American Barleywine  0.099  92.0\n",
       "22            Winter Warmer  0.079  45.0\n",
       "24  American Pale Ale (APA)  0.044  42.0\n",
       "25   Fruit / Vegetable Beer  0.049  17.0\n",
       "26   Fruit / Vegetable Beer  0.049  17.0\n",
       "27   Fruit / Vegetable Beer  0.049  17.0\n",
       "28             American IPA  0.070  70.0\n",
       "29             American IPA  0.070  70.0\n",
       "30             American IPA  0.070  70.0"
      ]
     },
     "execution_count": 105,
     "metadata": {},
     "output_type": "execute_result"
    }
   ],
   "source": [
    "#data frame con las columnas que queremos: style, ibu, abv\n",
    "#beers[['style','abv']]\n",
    "df_beers_style = beers_clean[['style','abv','ibu']]\n",
    "df_beers_style[0:10]"
   ]
  },
  {
   "cell_type": "code",
   "execution_count": 106,
   "metadata": {},
   "outputs": [
    {
     "data": {
      "text/plain": [
       "pandas.core.frame.DataFrame"
      ]
     },
     "execution_count": 106,
     "metadata": {},
     "output_type": "execute_result"
    }
   ],
   "source": [
    "type(df_beers_style)"
   ]
  },
  {
   "cell_type": "code",
   "execution_count": 112,
   "metadata": {},
   "outputs": [
    {
     "data": {
      "text/plain": [
       "American IPA                      301\n",
       "American Pale Ale (APA)           153\n",
       "American Amber / Red Ale           77\n",
       "American Double / Imperial IPA     75\n",
       "American Pale Wheat Ale            61\n",
       "American Blonde Ale                61\n",
       "American Porter                    39\n",
       "American Brown Ale                 38\n",
       "Fruit / Vegetable Beer             30\n",
       "Hefeweizen                         27\n",
       "Name: style, dtype: int64"
      ]
     },
     "execution_count": 112,
     "metadata": {},
     "output_type": "execute_result"
    }
   ],
   "source": [
    "style_counts = df_beers_style['style'].value_counts()\n",
    "style_counts[0:10]"
   ]
  },
  {
   "cell_type": "code",
   "execution_count": 108,
   "metadata": {},
   "outputs": [
    {
     "data": {
      "text/plain": [
       "90"
      ]
     },
     "execution_count": 108,
     "metadata": {},
     "output_type": "execute_result"
    }
   ],
   "source": [
    "len(style_counts)"
   ]
  },
  {
   "cell_type": "code",
   "execution_count": 113,
   "metadata": {},
   "outputs": [
    {
     "data": {
      "text/html": [
       "<div>\n",
       "<style>\n",
       "    .dataframe thead tr:only-child th {\n",
       "        text-align: right;\n",
       "    }\n",
       "\n",
       "    .dataframe thead th {\n",
       "        text-align: left;\n",
       "    }\n",
       "\n",
       "    .dataframe tbody tr th {\n",
       "        vertical-align: top;\n",
       "    }\n",
       "</style>\n",
       "<table border=\"1\" class=\"dataframe\">\n",
       "  <thead>\n",
       "    <tr style=\"text-align: right;\">\n",
       "      <th></th>\n",
       "      <th>abv</th>\n",
       "      <th>ibu</th>\n",
       "    </tr>\n",
       "    <tr>\n",
       "      <th>style</th>\n",
       "      <th></th>\n",
       "      <th></th>\n",
       "    </tr>\n",
       "  </thead>\n",
       "  <tbody>\n",
       "    <tr>\n",
       "      <th>Abbey Single Ale</th>\n",
       "      <td>0.049000</td>\n",
       "      <td>22.000000</td>\n",
       "    </tr>\n",
       "    <tr>\n",
       "      <th>Altbier</th>\n",
       "      <td>0.054625</td>\n",
       "      <td>34.125000</td>\n",
       "    </tr>\n",
       "    <tr>\n",
       "      <th>American Adjunct Lager</th>\n",
       "      <td>0.046545</td>\n",
       "      <td>11.000000</td>\n",
       "    </tr>\n",
       "    <tr>\n",
       "      <th>American Amber / Red Ale</th>\n",
       "      <td>0.057195</td>\n",
       "      <td>36.298701</td>\n",
       "    </tr>\n",
       "    <tr>\n",
       "      <th>American Amber / Red Lager</th>\n",
       "      <td>0.048063</td>\n",
       "      <td>23.250000</td>\n",
       "    </tr>\n",
       "    <tr>\n",
       "      <th>American Barleywine</th>\n",
       "      <td>0.099000</td>\n",
       "      <td>96.000000</td>\n",
       "    </tr>\n",
       "    <tr>\n",
       "      <th>American Black Ale</th>\n",
       "      <td>0.073150</td>\n",
       "      <td>68.900000</td>\n",
       "    </tr>\n",
       "    <tr>\n",
       "      <th>American Blonde Ale</th>\n",
       "      <td>0.050148</td>\n",
       "      <td>20.983607</td>\n",
       "    </tr>\n",
       "    <tr>\n",
       "      <th>American Brown Ale</th>\n",
       "      <td>0.057842</td>\n",
       "      <td>29.894737</td>\n",
       "    </tr>\n",
       "    <tr>\n",
       "      <th>American Dark Wheat Ale</th>\n",
       "      <td>0.052200</td>\n",
       "      <td>27.600000</td>\n",
       "    </tr>\n",
       "  </tbody>\n",
       "</table>\n",
       "</div>"
      ],
      "text/plain": [
       "                                 abv        ibu\n",
       "style                                          \n",
       "Abbey Single Ale            0.049000  22.000000\n",
       "Altbier                     0.054625  34.125000\n",
       "American Adjunct Lager      0.046545  11.000000\n",
       "American Amber / Red Ale    0.057195  36.298701\n",
       "American Amber / Red Lager  0.048063  23.250000\n",
       "American Barleywine         0.099000  96.000000\n",
       "American Black Ale          0.073150  68.900000\n",
       "American Blonde Ale         0.050148  20.983607\n",
       "American Brown Ale          0.057842  29.894737\n",
       "American Dark Wheat Ale     0.052200  27.600000"
      ]
     },
     "execution_count": 113,
     "metadata": {},
     "output_type": "execute_result"
    }
   ],
   "source": [
    "# calculamos la media por cada grupo\n",
    "style_means = df_beers_style.groupby('style').mean()\n",
    "style_means[0:10]"
   ]
  },
  {
   "cell_type": "code",
   "execution_count": 114,
   "metadata": {},
   "outputs": [
    {
     "data": {
      "text/plain": [
       "Abbey Single Ale               2\n",
       "Altbier                        8\n",
       "American Adjunct Lager        11\n",
       "American Amber / Red Ale      77\n",
       "American Amber / Red Lager    16\n",
       "American Barleywine            2\n",
       "American Black Ale            20\n",
       "American Blonde Ale           61\n",
       "American Brown Ale            38\n",
       "American Dark Wheat Ale        5\n",
       "Name: style, dtype: int64"
      ]
     },
     "execution_count": 114,
     "metadata": {},
     "output_type": "execute_result"
    }
   ],
   "source": [
    "#ordenamos style_counts por el índice, para que esté en igual orden que style_means\n",
    "style_counts = style_counts.sort_index()\n",
    "style_counts[0:10]"
   ]
  },
  {
   "cell_type": "code",
   "execution_count": 121,
   "metadata": {},
   "outputs": [
    {
     "data": {
      "image/png": "[encoded data removed]",
      "text/plain": [
       "<matplotlib.figure.Figure at 0x7f7506ab9400>"
      ]
     },
     "metadata": {},
     "output_type": "display_data"
    }
   ],
   "source": [
    "style_means.plot.scatter(figsize=(10,10),x='abv',y='ibu',s=style_counts*2,\n",
    "                         title='Beer ABV vs. IBU mean values by style');"
   ]
  },
  {
   "cell_type": "code",
   "execution_count": 128,
   "metadata": {},
   "outputs": [
    {
     "data": {
      "image/png": "[encoded data removed]",
      "text/plain": [
       "<matplotlib.figure.Figure at 0x7f75040fe080>"
      ]
     },
     "metadata": {},
     "output_type": "display_data"
    }
   ],
   "source": [
    "#importamos la librería colormap; alpha=0.3 se usa para dar transparencia\n",
    "from matplotlib import cm\n",
    "colors = cm.viridis(style_counts.values)\n",
    "\n",
    "style_means.plot.scatter(figsize=(10,10),x='abv',y='ibu',s=style_counts*20,\n",
    "                         color = colors,title='Beer ABV vs. IBU mean values by style',\n",
    "                         alpha=0.3);"
   ]
  },
  {
   "cell_type": "code",
   "execution_count": null,
   "metadata": {
    "collapsed": true
   },
   "outputs": [],
   "source": []
  }
 ],
 "metadata": {
  "kernelspec": {
   "display_name": "Python 3",
   "language": "python",
   "name": "python3"
  },
  "language_info": {
   "codemirror_mode": {
    "name": "ipython",
    "version": 3
   },
   "file_extension": ".py",
   "mimetype": "text/x-python",
   "name": "python",
   "nbconvert_exporter": "python",
   "pygments_lexer": "ipython3",
   "version": "3.6.2"
  }
 },
 "nbformat": 4,
 "nbformat_minor": 2
}
